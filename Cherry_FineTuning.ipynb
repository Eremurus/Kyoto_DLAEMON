{
  "nbformat": 4,
  "nbformat_minor": 0,
  "metadata": {
    "colab": {
      "name": "Cherry_FineTuning.ipynb",
      "provenance": []
    },
    "kernelspec": {
      "name": "python3",
      "display_name": "Python 3"
    },
    "language_info": {
      "name": "python"
    },
    "accelerator": "GPU"
  },
  "cells": [
    {
      "cell_type": "markdown",
      "metadata": {
        "id": "YABtHVdaAPLN"
      },
      "source": [
        "These are the codes we used to train a model for diagnosing cherry blossom leaves by  images.\n",
        "\n",
        "First of all, import modules that are needed to train a model."
      ]
    },
    {
      "cell_type": "code",
      "metadata": {
        "id": "3NepFcnHuFGI"
      },
      "source": [
        "import torch\n",
        "import matplotlib.pyplot as plt\n",
        "import tqdm\n",
        "from torch.utils.data import (TensorDataset, DataLoader, Dataset)\n",
        "from torchvision import transforms\n",
        "from torchvision import models\n",
        "from torchvision.datasets import ImageFolder\n",
        "from google.colab import drive\n",
        "from torch import optim, nn"
      ],
      "execution_count": null,
      "outputs": []
    },
    {
      "cell_type": "markdown",
      "metadata": {
        "id": "L1K22pvLBg3P"
      },
      "source": [
        "mount google drive in order to use images uploaded in google drive."
      ]
    },
    {
      "cell_type": "code",
      "metadata": {
        "colab": {
          "base_uri": "https://localhost:8080/"
        },
        "id": "re8tqMAgu7hG",
        "outputId": "ac553450-1109-4612-9e82-34c97f01c017"
      },
      "source": [
        "drive.mount('/content/drive')"
      ],
      "execution_count": null,
      "outputs": [
        {
          "output_type": "stream",
          "name": "stdout",
          "text": [
            "Drive already mounted at /content/drive; to attempt to forcibly remount, call drive.mount(\"/content/drive\", force_remount=True).\n"
          ]
        }
      ]
    },
    {
      "cell_type": "markdown",
      "metadata": {
        "id": "oyqeL6JdBxAr"
      },
      "source": [
        "load train and validation images and process them in order to do fine-tuning using Resnet18."
      ]
    },
    {
      "cell_type": "code",
      "metadata": {
        "id": "3bJqIjgou9vb"
      },
      "source": [
        "train_imgs = ImageFolder('/content/drive/My Drive/Cherry_leaves_3/train',\n",
        "    transform = transforms.Compose([\n",
        "        transforms.RandomCrop(224),\n",
        "        transforms.ToTensor()]\n",
        "))\n",
        "\n",
        "val_imgs = ImageFolder('/content/drive/My Drive/Cherry_leaves_3/val',\n",
        "    transform = transforms.Compose([\n",
        "        transforms.CenterCrop(224),\n",
        "        transforms.ToTensor()]\n",
        "))\n",
        "\n",
        "train_loader = DataLoader(\n",
        "    train_imgs, batch_size=128, shuffle=True\n",
        ")\n",
        "val_loader = DataLoader(\n",
        "    val_imgs, batch_size=128, shuffle=False\n",
        ")"
      ],
      "execution_count": null,
      "outputs": []
    },
    {
      "cell_type": "markdown",
      "metadata": {
        "id": "WOAtHncaCOPE"
      },
      "source": [
        "load Resnet18　and replace the last linear layer."
      ]
    },
    {
      "cell_type": "code",
      "metadata": {
        "id": "wYAzOpiavAQN"
      },
      "source": [
        "net = models.resnet18(pretrained=True)\n",
        "\n",
        "fc_input_dim = net.fc.in_features \n",
        "net.fc = nn.Linear(fc_input_dim, 2)\n",
        "\n",
        "for p in net.parameters():\n",
        "    p.requires_grad=True\n",
        "\n",
        "learning_curv_y_val = []\n",
        "learning_curv_y_train = []\n",
        "learning_curv_x = [i for i in range(21)]"
      ],
      "execution_count": null,
      "outputs": []
    },
    {
      "cell_type": "code",
      "metadata": {
        "id": "FmY9g85Qyydw"
      },
      "source": [
        "params_to_update_1 = []\n",
        "params_to_update_2 = []\n",
        "\n",
        "for name, param in net.named_parameters():\n",
        "    if 'layer' in name:\n",
        "        param.requires_grad = True\n",
        "        params_to_update_1.append(param)\n",
        "\n",
        "    elif 'fc' in name:\n",
        "        param.requires_grad = True\n",
        "        params_to_update_2.append(param)\n",
        "\n",
        "    else:\n",
        "        param.requires_grad = False"
      ],
      "execution_count": null,
      "outputs": []
    },
    {
      "cell_type": "markdown",
      "metadata": {
        "id": "jmFL6WXADQr2"
      },
      "source": [
        "The function to evaluate model at each epoch."
      ]
    },
    {
      "cell_type": "code",
      "metadata": {
        "id": "Cq5FDDbmvQpm"
      },
      "source": [
        "def eval_net(net, data_loader, device=\"cpu\"):\n",
        "    # not to use batchnorm or dropout\n",
        "    net.eval()\n",
        "    ys = []\n",
        "    ypreds = []\n",
        "\n",
        "    for x, y in data_loader:\n",
        "        # transfer x and y to device(GPU)\n",
        "        x = x.to(device)\n",
        "        y = y.to(device)\n",
        "        # predict the most likely class\n",
        "        with torch.no_grad():\n",
        "            _, y_pred = net(x).max(1)\n",
        "        ys.append(y)\n",
        "        ypreds.append(y_pred)\n",
        "\n",
        "    ys = torch.cat(ys)\n",
        "    ypreds = torch.cat(ypreds)\n",
        "    # compute the accuracy\n",
        "    acc = (ys == ypreds).float().sum() / len(ys)\n",
        "    return acc.item()\n"
      ],
      "execution_count": null,
      "outputs": []
    },
    {
      "cell_type": "markdown",
      "metadata": {
        "id": "I63ZagKFJz4i"
      },
      "source": [
        "the function to train model."
      ]
    },
    {
      "cell_type": "code",
      "metadata": {
        "id": "2lWXKrX8vjgC"
      },
      "source": [
        "def train_net(net, train_loader, val_loader,\n",
        "              loss_fn=nn.CrossEntropyLoss(),\n",
        "              n_iter=10, device=\"cpu\"):\n",
        "    train_losses = []\n",
        "    train_acc = []\n",
        "    val_acc = []\n",
        "    \n",
        "    optimizer = optim.SGD([\n",
        "            {'params' : params_to_update_1, 'lr' : 1e-4},\n",
        "            {'params' : params_to_update_2, 'lr' : 1e-3}\n",
        "    ], momentum=0.9)\n",
        "\n",
        "    for epoch in range(n_iter):\n",
        "            \n",
        "        running_loss = 0.0\n",
        "        # change mode to train\n",
        "        net.train()\n",
        "        n = 0\n",
        "        n_acc = 0\n",
        "        \n",
        "        for i, (xx, yy) in tqdm.tqdm(enumerate(train_loader),\n",
        "                total=len(train_loader)):\n",
        "                xx = xx.to(device)\n",
        "                yy = yy.to(device)\n",
        "                h = net(xx)\n",
        "                loss = loss_fn(h, yy)\n",
        "                optimizer.zero_grad()\n",
        "                loss.backward()\n",
        "                optimizer.step()\n",
        "                running_loss += loss.item()\n",
        "                n += len(xx)\n",
        "                _, y_pred = h.max(1)\n",
        "                n_acc += (yy == y_pred).float().sum().item()\n",
        "        train_losses.append(running_loss / i)\n",
        "            # the accuracy of training data\n",
        "        train_acc.append(n_acc / n)\n",
        "        learning_curv_y_train.append(n_acc / n)\n",
        "            # the accuracy of validation data\n",
        "        val_acc.append(eval_net(net, val_loader, device))\n",
        "        learning_curv_y_val.append(eval_net(net, val_loader, device))\n",
        "\n",
        "        print(epoch, train_losses[-1], train_acc[-1],\n",
        "                val_acc[-1], flush=True)"
      ],
      "execution_count": null,
      "outputs": []
    },
    {
      "cell_type": "markdown",
      "metadata": {
        "id": "WPzLIjlMJ64v"
      },
      "source": [
        "let the model learn parameters."
      ]
    },
    {
      "cell_type": "code",
      "metadata": {
        "colab": {
          "base_uri": "https://localhost:8080/"
        },
        "id": "hSisYmUmv8sw",
        "outputId": "89687fc9-c048-46b8-d17a-40c610b95d24"
      },
      "source": [
        "\n",
        "net.to(\"cuda:0\")\n",
        "learning_curv_y_train.append(eval_net(net, train_loader, device=\"cuda:0\"))\n",
        "learning_curv_y_val.append(eval_net(net, val_loader, device=\"cuda:0\"))\n",
        "\n",
        "train_net(net, train_loader, val_loader, n_iter=20 , device=\"cuda:0\")"
      ],
      "execution_count": null,
      "outputs": [
        {
          "output_type": "stream",
          "name": "stderr",
          "text": [
            "100%|██████████| 9/9 [00:09<00:00,  1.02s/it]\n"
          ]
        },
        {
          "output_type": "stream",
          "name": "stdout",
          "text": [
            "0 0.8316504433751106 0.5383944153577661 0.7305555939674377\n"
          ]
        },
        {
          "output_type": "stream",
          "name": "stderr",
          "text": [
            "100%|██████████| 9/9 [00:09<00:00,  1.02s/it]\n"
          ]
        },
        {
          "output_type": "stream",
          "name": "stdout",
          "text": [
            "1 0.4008915312588215 0.9013961605584643 0.9555555582046509\n"
          ]
        },
        {
          "output_type": "stream",
          "name": "stderr",
          "text": [
            "100%|██████████| 9/9 [00:09<00:00,  1.02s/it]\n"
          ]
        },
        {
          "output_type": "stream",
          "name": "stdout",
          "text": [
            "2 0.18547843303531408 0.9860383944153578 0.9888889193534851\n"
          ]
        },
        {
          "output_type": "stream",
          "name": "stderr",
          "text": [
            "100%|██████████| 9/9 [00:09<00:00,  1.03s/it]\n"
          ]
        },
        {
          "output_type": "stream",
          "name": "stdout",
          "text": [
            "3 0.10776846669614315 0.9956369982547993 0.9833333492279053\n"
          ]
        },
        {
          "output_type": "stream",
          "name": "stderr",
          "text": [
            "100%|██████████| 9/9 [00:09<00:00,  1.03s/it]\n"
          ]
        },
        {
          "output_type": "stream",
          "name": "stdout",
          "text": [
            "4 0.0757155274040997 0.9956369982547993 0.9833333492279053\n"
          ]
        },
        {
          "output_type": "stream",
          "name": "stderr",
          "text": [
            "100%|██████████| 9/9 [00:09<00:00,  1.02s/it]\n"
          ]
        },
        {
          "output_type": "stream",
          "name": "stdout",
          "text": [
            "5 0.05824954528361559 0.9982547993019197 0.9888889193534851\n"
          ]
        },
        {
          "output_type": "stream",
          "name": "stderr",
          "text": [
            "100%|██████████| 9/9 [00:09<00:00,  1.02s/it]\n"
          ]
        },
        {
          "output_type": "stream",
          "name": "stdout",
          "text": [
            "6 0.04976553423330188 0.9991273996509599 0.9861111640930176\n"
          ]
        },
        {
          "output_type": "stream",
          "name": "stderr",
          "text": [
            "100%|██████████| 9/9 [00:09<00:00,  1.01s/it]\n"
          ]
        },
        {
          "output_type": "stream",
          "name": "stdout",
          "text": [
            "7 0.04438991588540375 0.9973821989528796 0.9861111640930176\n"
          ]
        },
        {
          "output_type": "stream",
          "name": "stderr",
          "text": [
            "100%|██████████| 9/9 [00:09<00:00,  1.02s/it]\n"
          ]
        },
        {
          "output_type": "stream",
          "name": "stdout",
          "text": [
            "8 0.03952366206794977 0.9982547993019197 0.9861111640930176\n"
          ]
        },
        {
          "output_type": "stream",
          "name": "stderr",
          "text": [
            "100%|██████████| 9/9 [00:09<00:00,  1.02s/it]\n"
          ]
        },
        {
          "output_type": "stream",
          "name": "stdout",
          "text": [
            "9 0.03957276581786573 1.0 0.9861111640930176\n"
          ]
        },
        {
          "output_type": "stream",
          "name": "stderr",
          "text": [
            "100%|██████████| 9/9 [00:09<00:00,  1.02s/it]\n"
          ]
        },
        {
          "output_type": "stream",
          "name": "stdout",
          "text": [
            "10 0.034385356586426497 1.0 0.9916666746139526\n"
          ]
        },
        {
          "output_type": "stream",
          "name": "stderr",
          "text": [
            "100%|██████████| 9/9 [00:09<00:00,  1.02s/it]\n"
          ]
        },
        {
          "output_type": "stream",
          "name": "stdout",
          "text": [
            "11 0.030683240620419383 0.9991273996509599 0.9972222447395325\n"
          ]
        },
        {
          "output_type": "stream",
          "name": "stderr",
          "text": [
            "100%|██████████| 9/9 [00:09<00:00,  1.01s/it]\n"
          ]
        },
        {
          "output_type": "stream",
          "name": "stdout",
          "text": [
            "12 0.02890267362818122 1.0 0.9944444894790649\n"
          ]
        },
        {
          "output_type": "stream",
          "name": "stderr",
          "text": [
            "100%|██████████| 9/9 [00:09<00:00,  1.02s/it]\n"
          ]
        },
        {
          "output_type": "stream",
          "name": "stdout",
          "text": [
            "13 0.02775506698526442 0.9982547993019197 0.9944444894790649\n"
          ]
        },
        {
          "output_type": "stream",
          "name": "stderr",
          "text": [
            "100%|██████████| 9/9 [00:09<00:00,  1.01s/it]\n"
          ]
        },
        {
          "output_type": "stream",
          "name": "stdout",
          "text": [
            "14 0.02534755296073854 0.9982547993019197 0.9972222447395325\n"
          ]
        },
        {
          "output_type": "stream",
          "name": "stderr",
          "text": [
            "100%|██████████| 9/9 [00:09<00:00,  1.03s/it]\n"
          ]
        },
        {
          "output_type": "stream",
          "name": "stdout",
          "text": [
            "15 0.02577867277432233 0.9982547993019197 0.9972222447395325\n"
          ]
        },
        {
          "output_type": "stream",
          "name": "stderr",
          "text": [
            "100%|██████████| 9/9 [00:09<00:00,  1.02s/it]\n"
          ]
        },
        {
          "output_type": "stream",
          "name": "stdout",
          "text": [
            "16 0.024225842207670212 0.9982547993019197 0.9972222447395325\n"
          ]
        },
        {
          "output_type": "stream",
          "name": "stderr",
          "text": [
            "100%|██████████| 9/9 [00:09<00:00,  1.02s/it]\n"
          ]
        },
        {
          "output_type": "stream",
          "name": "stdout",
          "text": [
            "17 0.02027202525641769 1.0 0.9972222447395325\n"
          ]
        },
        {
          "output_type": "stream",
          "name": "stderr",
          "text": [
            "100%|██████████| 9/9 [00:09<00:00,  1.01s/it]\n"
          ]
        },
        {
          "output_type": "stream",
          "name": "stdout",
          "text": [
            "18 0.02010192780289799 1.0 0.9972222447395325\n"
          ]
        },
        {
          "output_type": "stream",
          "name": "stderr",
          "text": [
            "100%|██████████| 9/9 [00:09<00:00,  1.00s/it]\n"
          ]
        },
        {
          "output_type": "stream",
          "name": "stdout",
          "text": [
            "19 0.022448784788139164 0.9991273996509599 0.9972222447395325\n"
          ]
        }
      ]
    },
    {
      "cell_type": "markdown",
      "metadata": {
        "id": "rwIW3JpcFjk8"
      },
      "source": [
        "compute the accuracy by test images."
      ]
    },
    {
      "cell_type": "code",
      "metadata": {
        "id": "H5GKsFTmzuHF"
      },
      "source": [
        "test_imgs = ImageFolder('/content/drive/My Drive/Cherry_leaves_3/test',\n",
        "    transform = transforms.Compose([\n",
        "        transforms.CenterCrop(224),\n",
        "        transforms.ToTensor()]\n",
        "))\n",
        "\n",
        "test_loader = DataLoader(\n",
        "    test_imgs, batch_size=128, shuffle=True\n",
        ")"
      ],
      "execution_count": null,
      "outputs": []
    },
    {
      "cell_type": "code",
      "metadata": {
        "colab": {
          "base_uri": "https://localhost:8080/"
        },
        "id": "lsnLy9N9z0z4",
        "outputId": "88cbed16-bd49-4d22-b5ca-422e34728f51"
      },
      "source": [
        "print(eval_net(net, test_loader, device=\"cuda:0\"))"
      ],
      "execution_count": null,
      "outputs": [
        {
          "output_type": "stream",
          "name": "stdout",
          "text": [
            "0.9975000023841858\n"
          ]
        }
      ]
    },
    {
      "cell_type": "markdown",
      "metadata": {
        "id": "CQI1bax1FgMx"
      },
      "source": [
        "save the model."
      ]
    },
    {
      "cell_type": "code",
      "metadata": {
        "id": "M-VK1RAez4zq"
      },
      "source": [
        "path = \"/content/drive/My Drive/iGEM/Cherry_model_Fine_Tuning.pth\"\n",
        "torch.save(net.state_dict(), path)"
      ],
      "execution_count": null,
      "outputs": []
    },
    {
      "cell_type": "markdown",
      "metadata": {
        "id": "DBgPQGUjFy3k"
      },
      "source": [
        "plot learning curves."
      ]
    },
    {
      "cell_type": "code",
      "metadata": {
        "colab": {
          "base_uri": "https://localhost:8080/",
          "height": 312
        },
        "id": "say-bnQOz8o8",
        "outputId": "17519a0b-57dd-488b-ffbb-926e074483b3"
      },
      "source": [
        "plt.plot(learning_curv_x, learning_curv_y_train, label = \"train\", color = \"red\")\n",
        "\n",
        "plt.plot(learning_curv_x, learning_curv_y_val, label = \"val\", color = \"blue\")\n",
        "plt.legend()\n",
        "plt.xlabel(\"iteration\")\n",
        "plt.ylabel(\"accuracy\")\n",
        "plt.title(\"learning curve\")"
      ],
      "execution_count": null,
      "outputs": [
        {
          "output_type": "execute_result",
          "data": {
            "text/plain": [
              "Text(0.5, 1.0, 'learning curve')"
            ]
          },
          "metadata": {},
          "execution_count": 28
        },
        {
          "output_type": "display_data",
          "data": {
            "image/png": "[encoded data removed]",
            "text/plain": [
              "<Figure size 432x288 with 1 Axes>"
            ]
          },
          "metadata": {
            "needs_background": "light"
          }
        }
      ]
    },
    {
      "cell_type": "code",
      "metadata": {
        "id": "mXRmNkOM8TR9"
      },
      "source": [
        ""
      ],
      "execution_count": null,
      "outputs": []
    }
  ]
}