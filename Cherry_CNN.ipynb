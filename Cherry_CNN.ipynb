{
  "nbformat": 4,
  "nbformat_minor": 0,
  "metadata": {
    "colab": {
      "name": "Cherry_CNN.ipynb",
      "provenance": []
    },
    "kernelspec": {
      "name": "python3",
      "display_name": "Python 3"
    },
    "language_info": {
      "name": "python"
    },
    "accelerator": "GPU"
  },
  "cells": [
    {
      "cell_type": "code",
      "metadata": {
        "id": "m3LrLcodLcbL"
      },
      "source": [
        "import torch\n",
        "from torch import nn, optim\n",
        "from torch.utils.data import DataLoader, TensorDataset\n",
        "from torchvision import transforms, models\n",
        "import tqdm\n",
        "from google.colab import drive\n",
        "from torchvision.datasets import ImageFolder\n",
        "import matplotlib.pyplot as plt"
      ],
      "execution_count": null,
      "outputs": []
    },
    {
      "cell_type": "code",
      "metadata": {
        "id": "RmkDd7gfaqLg",
        "colab": {
          "base_uri": "https://localhost:8080/"
        },
        "outputId": "d7dc6a5b-53dd-40db-8103-348a870b0869"
      },
      "source": [
        "drive.mount('/content/drive')"
      ],
      "execution_count": null,
      "outputs": [
        {
          "output_type": "stream",
          "name": "stdout",
          "text": [
            "Drive already mounted at /content/drive; to attempt to forcibly remount, call drive.mount(\"/content/drive\", force_remount=True).\n"
          ]
        }
      ]
    },
    {
      "cell_type": "code",
      "metadata": {
        "id": "G6_fMFqfMgSh"
      },
      "source": [
        "train_imgs = ImageFolder('/content/drive/My Drive/Cherry_leaves_3/train',\n",
        "    transform = transforms.Compose([\n",
        "        transforms.RandomCrop(224),\n",
        "        transforms.ToTensor()]\n",
        "))\n",
        "\n",
        "val_imgs = ImageFolder('/content/drive/My Drive/Cherry_leaves_3/val',\n",
        "    transform = transforms.Compose([\n",
        "        transforms.CenterCrop(224),\n",
        "        transforms.ToTensor()]\n",
        "))\n",
        "\n",
        "train_loader = DataLoader(\n",
        "    train_imgs, batch_size=128, shuffle=True\n",
        ")\n",
        "val_loader = DataLoader(\n",
        "    val_imgs, batch_size=128, shuffle=False\n",
        ")"
      ],
      "execution_count": null,
      "outputs": []
    },
    {
      "cell_type": "code",
      "metadata": {
        "id": "e-PyHykKMphh"
      },
      "source": [
        "class FlattenLayer(nn.Module):\n",
        "    def forward(self, x):\n",
        "        sizes = x.size()\n",
        "        return x.view(sizes[0], -1)\n",
        "\n",
        "conv_net = nn.Sequential(\n",
        "    nn.Conv2d(3, 32, 3),\n",
        "    nn.MaxPool2d(2),\n",
        "    nn.ReLU(),\n",
        "    nn.BatchNorm2d(32),\n",
        "    nn.Dropout2d(0.25),\n",
        "    nn.Conv2d(32, 64, 3),\n",
        "    nn.MaxPool2d(2),\n",
        "    nn.ReLU(),\n",
        "    nn.BatchNorm2d(64),\n",
        "    nn.Dropout(0.25),\n",
        "    FlattenLayer()\n",
        ")\n",
        "\n",
        "test_input = torch.ones(1, 3, 224, 224)\n",
        "conv_output_size = conv_net(test_input).size()[-1]\n",
        "\n",
        "mlp = nn.Sequential(\n",
        "    nn.Linear(conv_output_size, 200),\n",
        "    nn.ReLU(),\n",
        "    nn.BatchNorm1d(200),\n",
        "    nn.Dropout(0.25),\n",
        "    nn.Linear(200, 2)\n",
        ")\n",
        "\n",
        "net = nn.Sequential(\n",
        "    conv_net,\n",
        "    mlp\n",
        ")\n",
        "\n",
        "learning_curv_y_val = []\n",
        "learning_curv_y_train = []\n",
        "\n",
        "learning_curv_x = [i for i in range(21)]"
      ],
      "execution_count": null,
      "outputs": []
    },
    {
      "cell_type": "code",
      "metadata": {
        "id": "PcBj7WeiPezV"
      },
      "source": [
        "def eval_net(net, data_loader, device=\"cpu\"):\n",
        "    net.eval()\n",
        "    ys = []\n",
        "    ypreds = []\n",
        "    for x, y in data_loader:\n",
        "        x = x.to(device)\n",
        "        y = y.to(device)\n",
        "        with torch.no_grad():\n",
        "            _, y_pred = net(x).max(1)\n",
        "        ys.append(y)\n",
        "        ypreds.append(y_pred)\n",
        "    ys = torch.cat(ys)\n",
        "    ypreds = torch.cat(ypreds)\n",
        "    acc = (ys == ypreds).float().sum() / len(ys)\n",
        "    return acc.item()\n",
        "\n",
        "def train_net(net, train_loader, val_loader, optimizer_cls=optim.SGD, loss_fn=nn.CrossEntropyLoss(), n_iter=20, device=\"cpu\"):\n",
        "    train_losses = []\n",
        "    train_acc = []\n",
        "    val_acc = []\n",
        "    optimizer = optimizer_cls(params=net.parameters(), lr=1e-3)\n",
        "    \n",
        "    for epoch in range(n_iter):\n",
        "        running_loss = 0.0\n",
        "        net.train()\n",
        "        n = 0\n",
        "        n_acc = 0\n",
        "        for i, (xx, yy) in tqdm.tqdm(enumerate(train_loader), total=len(train_loader)):\n",
        "            xx = xx.to(device)\n",
        "            yy = yy.to(device)\n",
        "            h = net(xx)\n",
        "            loss = loss_fn(h, yy)\n",
        "            optimizer.zero_grad()\n",
        "            loss.backward()\n",
        "            optimizer.step()\n",
        "            running_loss += loss.item()\n",
        "            n += len(xx)\n",
        "            _, y_pred = h.max(1)\n",
        "            n_acc += (yy == y_pred).float().sum().item()\n",
        "        train_losses.append(running_loss / i)\n",
        "        train_acc.append(n_acc / n)\n",
        "        learning_curv_y_train.append(n_acc / n)\n",
        "        learning_curv_y_val.append(eval_net(net, val_loader, device))\n",
        "        val_acc.append(eval_net(net, val_loader, device))\n",
        "        print(epoch, train_losses[-1], train_acc[-1], val_acc[-1], flush=True)"
      ],
      "execution_count": null,
      "outputs": []
    },
    {
      "cell_type": "code",
      "metadata": {
        "colab": {
          "base_uri": "https://localhost:8080/"
        },
        "id": "ZJsqqxmuweN8",
        "outputId": "d52a19d6-f183-45c4-d05a-e27ffd7129ee"
      },
      "source": [
        "net.to(\"cuda:0\")\n",
        "learning_curv_y_train.append(eval_net(net, train_loader, device=\"cuda:0\"))\n",
        "learning_curv_y_val.append(eval_net(net, val_loader, device=\"cuda:0\"))\n",
        "train_net(net, train_loader, val_loader, n_iter=20, device=\"cuda:0\")"
      ],
      "execution_count": null,
      "outputs": [
        {
          "output_type": "stream",
          "name": "stderr",
          "text": [
            "100%|██████████| 9/9 [00:07<00:00,  1.25it/s]\n"
          ]
        },
        {
          "output_type": "stream",
          "name": "stdout",
          "text": [
            "0 0.2615315755829215 0.887434554973822 0.5\n"
          ]
        },
        {
          "output_type": "stream",
          "name": "stderr",
          "text": [
            "100%|██████████| 9/9 [00:07<00:00,  1.23it/s]\n"
          ]
        },
        {
          "output_type": "stream",
          "name": "stdout",
          "text": [
            "1 0.09985926607623696 0.9781849912739965 0.5\n"
          ]
        },
        {
          "output_type": "stream",
          "name": "stderr",
          "text": [
            "100%|██████████| 9/9 [00:07<00:00,  1.26it/s]\n"
          ]
        },
        {
          "output_type": "stream",
          "name": "stdout",
          "text": [
            "2 0.08100843569263816 0.9799301919720768 0.5027778148651123\n"
          ]
        },
        {
          "output_type": "stream",
          "name": "stderr",
          "text": [
            "100%|██████████| 9/9 [00:07<00:00,  1.26it/s]\n"
          ]
        },
        {
          "output_type": "stream",
          "name": "stdout",
          "text": [
            "3 0.0910414841491729 0.9781849912739965 0.5472222566604614\n"
          ]
        },
        {
          "output_type": "stream",
          "name": "stderr",
          "text": [
            "100%|██████████| 9/9 [00:07<00:00,  1.26it/s]\n"
          ]
        },
        {
          "output_type": "stream",
          "name": "stdout",
          "text": [
            "4 0.06366766430437565 0.9860383944153578 0.6888889074325562\n"
          ]
        },
        {
          "output_type": "stream",
          "name": "stderr",
          "text": [
            "100%|██████████| 9/9 [00:07<00:00,  1.27it/s]\n"
          ]
        },
        {
          "output_type": "stream",
          "name": "stdout",
          "text": [
            "5 0.06324726482853293 0.9886561954624782 0.8222222328186035\n"
          ]
        },
        {
          "output_type": "stream",
          "name": "stderr",
          "text": [
            "100%|██████████| 9/9 [00:07<00:00,  1.27it/s]\n"
          ]
        },
        {
          "output_type": "stream",
          "name": "stdout",
          "text": [
            "6 0.06310672126710415 0.9860383944153578 0.9222222566604614\n"
          ]
        },
        {
          "output_type": "stream",
          "name": "stderr",
          "text": [
            "100%|██████████| 9/9 [00:07<00:00,  1.26it/s]\n"
          ]
        },
        {
          "output_type": "stream",
          "name": "stdout",
          "text": [
            "7 0.05023896670900285 0.9895287958115183 0.9611111283302307\n"
          ]
        },
        {
          "output_type": "stream",
          "name": "stderr",
          "text": [
            "100%|██████████| 9/9 [00:06<00:00,  1.29it/s]\n"
          ]
        },
        {
          "output_type": "stream",
          "name": "stdout",
          "text": [
            "8 0.059652336640283465 0.987783595113438 0.9777777791023254\n"
          ]
        },
        {
          "output_type": "stream",
          "name": "stderr",
          "text": [
            "100%|██████████| 9/9 [00:07<00:00,  1.26it/s]\n"
          ]
        },
        {
          "output_type": "stream",
          "name": "stdout",
          "text": [
            "9 0.047245465917512774 0.9886561954624782 0.9861111640930176\n"
          ]
        },
        {
          "output_type": "stream",
          "name": "stderr",
          "text": [
            "100%|██████████| 9/9 [00:07<00:00,  1.27it/s]\n"
          ]
        },
        {
          "output_type": "stream",
          "name": "stdout",
          "text": [
            "10 0.0532064416911453 0.987783595113438 0.9916666746139526\n"
          ]
        },
        {
          "output_type": "stream",
          "name": "stderr",
          "text": [
            "100%|██████████| 9/9 [00:07<00:00,  1.21it/s]\n"
          ]
        },
        {
          "output_type": "stream",
          "name": "stdout",
          "text": [
            "11 0.047793333302251995 0.987783595113438 0.9944444894790649\n"
          ]
        },
        {
          "output_type": "stream",
          "name": "stderr",
          "text": [
            "100%|██████████| 9/9 [00:07<00:00,  1.26it/s]\n"
          ]
        },
        {
          "output_type": "stream",
          "name": "stdout",
          "text": [
            "12 0.03460488247219473 0.9965095986038395 0.9944444894790649\n"
          ]
        },
        {
          "output_type": "stream",
          "name": "stderr",
          "text": [
            "100%|██████████| 9/9 [00:07<00:00,  1.25it/s]\n"
          ]
        },
        {
          "output_type": "stream",
          "name": "stdout",
          "text": [
            "13 0.038090382469817996 0.9947643979057592 0.9944444894790649\n"
          ]
        },
        {
          "output_type": "stream",
          "name": "stderr",
          "text": [
            "100%|██████████| 9/9 [00:07<00:00,  1.27it/s]\n"
          ]
        },
        {
          "output_type": "stream",
          "name": "stdout",
          "text": [
            "14 0.036712151719257236 0.9930191972076788 0.9944444894790649\n"
          ]
        },
        {
          "output_type": "stream",
          "name": "stderr",
          "text": [
            "100%|██████████| 9/9 [00:07<00:00,  1.27it/s]\n"
          ]
        },
        {
          "output_type": "stream",
          "name": "stdout",
          "text": [
            "15 0.037792266346514225 0.9930191972076788 0.9944444894790649\n"
          ]
        },
        {
          "output_type": "stream",
          "name": "stderr",
          "text": [
            "100%|██████████| 9/9 [00:07<00:00,  1.27it/s]\n"
          ]
        },
        {
          "output_type": "stream",
          "name": "stdout",
          "text": [
            "16 0.033575969049707055 0.993891797556719 0.9944444894790649\n"
          ]
        },
        {
          "output_type": "stream",
          "name": "stderr",
          "text": [
            "100%|██████████| 9/9 [00:07<00:00,  1.28it/s]\n"
          ]
        },
        {
          "output_type": "stream",
          "name": "stdout",
          "text": [
            "17 0.033716001780703664 0.9921465968586387 0.9944444894790649\n"
          ]
        },
        {
          "output_type": "stream",
          "name": "stderr",
          "text": [
            "100%|██████████| 9/9 [00:07<00:00,  1.28it/s]\n"
          ]
        },
        {
          "output_type": "stream",
          "name": "stdout",
          "text": [
            "18 0.03505426994524896 0.9904013961605584 0.9944444894790649\n"
          ]
        },
        {
          "output_type": "stream",
          "name": "stderr",
          "text": [
            "100%|██████████| 9/9 [00:07<00:00,  1.28it/s]\n"
          ]
        },
        {
          "output_type": "stream",
          "name": "stdout",
          "text": [
            "19 0.03364858380518854 0.9930191972076788 0.9972222447395325\n"
          ]
        }
      ]
    },
    {
      "cell_type": "code",
      "metadata": {
        "id": "q2GbCpLl283Y"
      },
      "source": [
        "model_save_name = 'filename.pth' \n",
        "path = \"/content/drive/My Drive/iGEM/Cherry_CNN_3\" \n",
        "torch.save(net.state_dict(), path) "
      ],
      "execution_count": null,
      "outputs": []
    },
    {
      "cell_type": "code",
      "metadata": {
        "id": "7hJr8-STXc7L",
        "colab": {
          "base_uri": "https://localhost:8080/"
        },
        "outputId": "8002f46b-9d76-4ec0-ed52-09e13bfab1f9"
      },
      "source": [
        "test_imgs = ImageFolder('/content/drive/My Drive/Cherry_leaves_3/test',\n",
        "    transform = transforms.Compose([\n",
        "        transforms.CenterCrop(224),\n",
        "        transforms.ToTensor()]\n",
        "))\n",
        "\n",
        "test_loader = DataLoader(\n",
        "    test_imgs, batch_size=128, shuffle=True\n",
        ")\n",
        "\n",
        "print(eval_net(net, test_loader, device=\"cuda:0\"))"
      ],
      "execution_count": null,
      "outputs": [
        {
          "output_type": "stream",
          "name": "stdout",
          "text": [
            "0.9925000071525574\n"
          ]
        }
      ]
    },
    {
      "cell_type": "code",
      "metadata": {
        "colab": {
          "base_uri": "https://localhost:8080/",
          "height": 312
        },
        "id": "2wCVFEz_e2tM",
        "outputId": "82aa4c02-5c9a-43b7-b717-880454c298c7"
      },
      "source": [
        "plt.plot(learning_curv_x, learning_curv_y_train, label = \"train\", color = \"red\")\n",
        "\n",
        "plt.plot(learning_curv_x, learning_curv_y_val, label = \"val\", color = \"blue\")\n",
        "plt.legend()\n",
        "plt.xlabel(\"iteration\")\n",
        "plt.ylabel(\"accuracy\")\n",
        "plt.title(\"learning curve\")"
      ],
      "execution_count": null,
      "outputs": [
        {
          "output_type": "execute_result",
          "data": {
            "text/plain": [
              "Text(0.5, 1.0, 'learning curve')"
            ]
          },
          "metadata": {},
          "execution_count": 15
        },
        {
          "output_type": "display_data",
          "data": {
            "image/png": "[encoded data removed]",
            "text/plain": [
              "<Figure size 432x288 with 1 Axes>"
            ]
          },
          "metadata": {
            "needs_background": "light"
          }
        }
      ]
    }
  ]
}